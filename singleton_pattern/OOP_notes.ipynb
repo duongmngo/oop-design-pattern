{
 "cells": [
  {
   "cell_type": "markdown",
   "metadata": {},
   "source": [
    "# Design Patterns\n",
    "\n",
    "**Creational Patterns**: Patterns that are used to generate objects with specific behaviors  \n",
    "**Structural Patterns**: Patterns that help in structuring the code for specific use cases  \n",
    "**Behavioral Patterns**: Patterns that help in structuring processes\n",
    "\n",
    "Benefits of using design pattern are:  \n",
    " - Patterns provide developer a selection of tried and tested solutions for the specified problems.  \n",
    " - All design patterns are language neutral.  \n",
    " - Patterns help to achieve communication and maintain well documentation.  \n",
    " - It includes a record of accomplishment to reduce any technical risk to the project.  \n",
    " - Design patterns are highly flexible to use and easy to understand.  "
   ]
  },
  {
   "cell_type": "markdown",
   "metadata": {},
   "source": [
    "## Creational Pattern\n",
    "A creational pattern provides a particular instantiation mechanism. It can be a particular object factory or even a class factory"
   ]
  },
  {
   "cell_type": "markdown",
   "metadata": {},
   "source": [
    "### Singleton\n",
    "The [Singleton pattern](https://python-3-patterns-idioms-test.readthedocs.io/en/latest/Singleton.html) makes sure that a given class has always only one living instance in the application:\n",
    " - When you want to restrict a resource access to one and only one memory context in the process - It makes the assumption that no other instance is interacting with the database in the meantime\n",
    "   + database connector class: synchornization and manages its data in memory\n",
    " - Utilities that provide application-wide functions are often decleared as Singletons\n",
    "   + Simplify concurrency is handled in an application\n",
    "   \n",
    "***Implement philosophy: Delegate to a single instance of a private nested inner class***  \n",
    "Some Resources:  \n",
    "https://www.oodesign.com/singleton-pattern.html  \n",
    "https://www.quora.com/What-is-Singleton-class\n",
    "\n",
    "Examples:\n",
    " - **Logger Classes**: provide a global logging access point in all the application components without being necessary to create an object each time a logging operations performed\n",
    " - **Configuration Classes**: keep the instance as cache object -> when class is instantiated (or read) the Singleton will keep the values in its internal structure => avoid reloading the values each time the configuration parameters are used (if values are read from database or from files)\n",
    " - **Accessing resources in shared mode**: there are many classes in application, working in multi-threading environment, operate actions on the serial port. Singleton with synchronized methods could be used to manage all the operations\n",
    " - **Factories implemented as Singleton**: Combining Abstract Factory or Factory Method and Singleton design patterns is a common practice to avoid 2 overlapping ids for 2 different objects"
   ]
  },
  {
   "cell_type": "code",
   "execution_count": 13,
   "metadata": {},
   "outputs": [
    {
     "name": "stdout",
     "output_type": "stream",
     "text": [
      "<__main__.Singleton.__Singleton object at 0x0000019231E45B70>sausage\n",
      "<__main__.Singleton.__Singleton object at 0x0000019231E45B70>eggs\n",
      "<__main__.Singleton.__Singleton object at 0x0000019231E45B70>spam\n",
      "<__main__.Singleton.__Singleton object at 0x0000019231E45B70>spam\n",
      "<__main__.Singleton.__Singleton object at 0x0000019231E45B70>spam\n"
     ]
    }
   ],
   "source": [
    "class Singleton(object):\n",
    "    # The instances of Singleton are distinct but they all proxy to the same __Singleton object.\n",
    "    # The inner class contains all the methods that you would normally put in the class\n",
    "    class __Singleton: \n",
    "        def __init__(self):\n",
    "            self.val = None\n",
    "        def __str__(self):\n",
    "            return repr(self) + self.val\n",
    "    \n",
    "    instance = None\n",
    "    \n",
    "    def __new__(cls): # __new__ always a classmethod\n",
    "        if not Singleton.instance:\n",
    "            Singleton.instance = Singleton.__Singleton()\n",
    "        return Singleton.instance\n",
    "    def __getattr__(self, name):\n",
    "        return getattr(self.instance, name)\n",
    "    def __setattr__(self, name):\n",
    "        return setattr(self.instance, name)"
   ]
  },
  {
   "cell_type": "code",
   "execution_count": 14,
   "metadata": {},
   "outputs": [
    {
     "name": "stdout",
     "output_type": "stream",
     "text": [
      "<__main__.Singleton.__Singleton object at 0x0000019231E45B70>sausage\n",
      "<__main__.Singleton.__Singleton object at 0x0000019231E45B70>eggs\n",
      "<__main__.Singleton.__Singleton object at 0x0000019231E45B70>spam\n",
      "<__main__.Singleton.__Singleton object at 0x0000019231E45B70>spam\n",
      "<__main__.Singleton.__Singleton object at 0x0000019231E45B70>spam\n",
      "<__main__.Singleton.__Singleton object at 0x0000019231E45B70>\n",
      "<__main__.Singleton.__Singleton object at 0x0000019231E45B70>\n",
      "<__main__.Singleton.__Singleton object at 0x0000019231E45B70>\n"
     ]
    }
   ],
   "source": [
    "x = Singleton()\n",
    "x.val = 'sausage'\n",
    "print(x)\n",
    "y = Singleton()\n",
    "y.val = 'eggs'\n",
    "print(y)\n",
    "z = Singleton()\n",
    "z.val = 'spam'\n",
    "print(z)\n",
    "print(x)\n",
    "print(y)\n",
    "print(repr(x))\n",
    "print(repr(y))\n",
    "print(repr(z))"
   ]
  },
  {
   "cell_type": "markdown",
   "metadata": {},
   "source": [
    "### Borg Singleton\n",
    "An implementation when we want a Singleton to have a single set of state data for all object"
   ]
  },
  {
   "cell_type": "code",
   "execution_count": 15,
   "metadata": {},
   "outputs": [],
   "source": [
    "class Borg:\n",
    "    _shared_state = {}\n",
    "    def __init__(self):\n",
    "        self.__dict__ = self._shared_state\n",
    "\n",
    "class Singleton(Borg):\n",
    "    def __init__(self, arg):\n",
    "        Borg.__init__(self)\n",
    "        self.val = arg\n",
    "    def __str__(self): \n",
    "        return self.val"
   ]
  },
  {
   "cell_type": "code",
   "execution_count": 16,
   "metadata": {},
   "outputs": [
    {
     "name": "stdout",
     "output_type": "stream",
     "text": [
      "sausage\n",
      "eggs\n",
      "spam\n",
      "spam\n",
      "spam\n"
     ]
    }
   ],
   "source": [
    "x = Singleton('sausage')\n",
    "print(x)\n",
    "y = Singleton('eggs')\n",
    "print(y)\n",
    "z = Singleton('spam')\n",
    "print(z)\n",
    "print(x)\n",
    "print(y)"
   ]
  },
  {
   "cell_type": "code",
   "execution_count": 19,
   "metadata": {},
   "outputs": [],
   "source": [
    "# ClassVariableSingleton implementation\n",
    "class Singleton(object):\n",
    "    __instance = None\n",
    "    def __new__(cls, val):\n",
    "        if Singleton.__instance is None:\n",
    "            Singleton.__instance = object.__new__(cls)\n",
    "        Singleton.__instance.val = val\n",
    "        return Singleton.__instance"
   ]
  },
  {
   "cell_type": "markdown",
   "metadata": {},
   "source": [
    "### ClassVariableSingleton implementation\n",
    "There's only one instance of a class variable"
   ]
  },
  {
   "cell_type": "code",
   "execution_count": 20,
   "metadata": {},
   "outputs": [],
   "source": [
    "## implementation 1: Decorator\n",
    "class SingletonDecorator:\n",
    "    def __init__(self, klass):\n",
    "        self.klass = klass\n",
    "        self.instance = None\n",
    "    def __call__(self, *args, **kwds):\n",
    "        if self.instance ==None:\n",
    "            self.instance = self.klass(*args, **kwds)\n",
    "        return self.instance\n",
    "    \n",
    "class foo:\n",
    "    pass\n",
    "\n",
    "foo = SingletonDecorator(foo)"
   ]
  },
  {
   "cell_type": "code",
   "execution_count": 18,
   "metadata": {},
   "outputs": [
    {
     "name": "stdout",
     "output_type": "stream",
     "text": [
      "spam\n",
      "spam\n",
      "spam\n",
      "True\n"
     ]
    }
   ],
   "source": [
    "x=foo()\n",
    "y=foo()\n",
    "z=foo()\n",
    "x.val = 'sausage'\n",
    "y.val = 'eggs'\n",
    "z.val = 'spam'\n",
    "print(x.val)\n",
    "print(y.val)\n",
    "print(z.val)\n",
    "print(x is y is z)"
   ]
  },
  {
   "cell_type": "code",
   "execution_count": 21,
   "metadata": {},
   "outputs": [],
   "source": [
    "## implementation 2: SingletonMetaClass\n",
    "class SingletonMetaClass(type):\n",
    "    def __init__(cls,name,bases,dict):\n",
    "        super(SingletonMetaClass,cls)\\\n",
    "          .__init__(name,bases,dict)\n",
    "        original_new = cls.__new__\n",
    "        def my_new(cls,*args,**kwds):\n",
    "            if cls.instance == None:\n",
    "                cls.instance = \\\n",
    "                  original_new(cls,*args,**kwds)\n",
    "            return cls.instance\n",
    "        cls.instance = None\n",
    "        cls.__new__ = staticmethod(my_new)\n",
    "\n",
    "class bar(object):\n",
    "    __metaclass__ = SingletonMetaClass\n",
    "    def __init__(self,val):\n",
    "        self.val = val\n",
    "    def __str__(self):\n",
    "        return repr(self) + self.val"
   ]
  },
  {
   "cell_type": "code",
   "execution_count": 22,
   "metadata": {},
   "outputs": [
    {
     "name": "stdout",
     "output_type": "stream",
     "text": [
      "<__main__.bar object at 0x0000019231E45C50>sausage\n",
      "<__main__.bar object at 0x0000019231E45C18>eggs\n",
      "<__main__.bar object at 0x0000019231E45C88>spam\n",
      "False\n"
     ]
    }
   ],
   "source": [
    "x=bar('sausage')\n",
    "y=bar('eggs')\n",
    "z=bar('spam')\n",
    "print(x)\n",
    "print(y)\n",
    "print(z)\n",
    "print(x is y is z)"
   ]
  },
  {
   "cell_type": "code",
   "execution_count": null,
   "metadata": {},
   "outputs": [],
   "source": []
  }
 ],
 "metadata": {
  "kernelspec": {
   "display_name": "Python 3",
   "language": "python",
   "name": "python3"
  },
  "language_info": {
   "codemirror_mode": {
    "name": "ipython",
    "version": 3
   },
   "file_extension": ".py",
   "mimetype": "text/x-python",
   "name": "python",
   "nbconvert_exporter": "python",
   "pygments_lexer": "ipython3",
   "version": "3.6.6"
  }
 },
 "nbformat": 4,
 "nbformat_minor": 2
}
