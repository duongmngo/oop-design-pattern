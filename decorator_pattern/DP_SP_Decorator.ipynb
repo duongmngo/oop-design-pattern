{
 "cells": [
  {
   "cell_type": "markdown",
   "metadata": {},
   "source": [
    "# Structural Patterns\n",
    "Structural design patterns are responsible for building simple and efficient class hierarchies and relations between different classes. Some popular patterns are\n",
    " - Decorator\n",
    " - Adapter\n",
    " - Proxy\n",
    " - Facade"
   ]
  },
  {
   "cell_type": "markdown",
   "metadata": {},
   "source": [
    "## Decorator\n",
    "**Decorator** is a structural design pattern that lets you attach new behaviors to objects by placing them inside wrapper objects that contain these behaviors.\n",
    " - When need to add and remove responsibilities from an object **dynamically** in a way that it stay compatible with the rest of application's code. Notes: **inheritance** can be a solution if it is **static**"
   ]
  },
  {
   "cell_type": "code",
   "execution_count": 1,
   "metadata": {},
   "outputs": [
    {
     "name": "stdout",
     "output_type": "stream",
     "text": [
      "inside my_decorator.__init__()\n",
      "inside aFunction()\n",
      "Finished decorating aFunction()\n",
      "inside my_decorator.__call__()\n"
     ]
    }
   ],
   "source": [
    "class my_decorator(object):\n",
    "\n",
    "    def __init__(self, f):\n",
    "        print(\"inside my_decorator.__init__()\")\n",
    "        f() # Prove that function definition has completed\n",
    "\n",
    "    def __call__(self):\n",
    "        print(\"inside my_decorator.__call__()\")\n",
    "\n",
    "@my_decorator\n",
    "def aFunction():\n",
    "    print(\"inside aFunction()\")\n",
    "\n",
    "print(\"Finished decorating aFunction()\")\n",
    "\n",
    "aFunction()"
   ]
  },
  {
   "cell_type": "markdown",
   "metadata": {},
   "source": [
    "**Explain**\n",
    " - first the decorator is call -> call the **`__init__`** function -> print `inside my_decorator.__init__()` and execute the function **`f which is aFunction()`** to print `inside aFunction()` and then ***decorate*** the **aFunction** call method to `print(\"inside my_decorator.__call__()\")`\n",
    " - next the `print(\"Finished decorating aFunction()\")` is executed\n",
    " - lastly **aFunction()** is called so it print out `inside my_decorator.__call__()`"
   ]
  },
  {
   "cell_type": "markdown",
   "metadata": {},
   "source": [
    "**Decorator structure**:  \n",
    "![structure](https://refactoring.guru/images/patterns/diagrams/decorator/structure.png)"
   ]
  },
  {
   "cell_type": "markdown",
   "metadata": {},
   "source": [
    "**Example**: coffee shop"
   ]
  },
  {
   "cell_type": "code",
   "execution_count": 9,
   "metadata": {},
   "outputs": [],
   "source": [
    "import six\n",
    "from abc import ABCMeta\n",
    "\n",
    "@six.add_metaclass(ABCMeta)\n",
    "class AbstractCoffee:\n",
    "    def get_cost(self):\n",
    "        pass\n",
    "    \n",
    "    def get_ingredients(self):\n",
    "        pass\n",
    "    \n",
    "    def get_tax(self):\n",
    "        return 0.1 * self.get_cost()\n",
    "    \n",
    "class ConcreteCoffee(AbstractCoffee):\n",
    "    def get_cost(self):\n",
    "        return 1.00\n",
    "    \n",
    "    def get_ingredients(self):\n",
    "        return 'coffee'\n",
    "    \n",
    "@six.add_metaclass(ABCMeta)\n",
    "class AbstractCoffeeDecorator(AbstractCoffee):\n",
    "    def __init__(self,decorated_coffee):\n",
    "        self.decorated_coffee = decorated_coffee\n",
    "   \n",
    "    def get_cost(self):\n",
    "        return self.decorated_coffee.get_cost()\n",
    "   \n",
    "    def get_ingredients(self):\n",
    "        return self.decorated_coffee.get_ingredients()\n",
    "\n",
    "class Sugar(AbstractCoffeeDecorator):\n",
    "    def __init__(self,decorated_coffee):\n",
    "        AbstractCoffeeDecorator.__init__(self,decorated_coffee)\n",
    "   \n",
    "    def get_cost(self):\n",
    "        return self.decorated_coffee.get_cost()\n",
    "   \n",
    "    def get_ingredients(self):\n",
    "        return self.decorated_coffee.get_ingredients() + ', sugar'\n",
    "\n",
    "class Milk(AbstractCoffeeDecorator):\n",
    "    def __init__(self,decorated_coffee):\n",
    "        AbstractCoffeeDecorator.__init__(self,decorated_coffee)\n",
    "   \n",
    "    def get_cost(self):\n",
    "        return self.decorated_coffee.get_cost() + 0.25\n",
    "   \n",
    "    def get_ingredients(self):\n",
    "        return self.decorated_coffee.get_ingredients() + ', milk'\n",
    "\n",
    "class Vanilla(AbstractCoffeeDecorator):\n",
    "    def __init__(self,decorated_coffee):\n",
    "        AbstractCoffeeDecorator.__init__(self,decorated_coffee)\n",
    "   \n",
    "    def get_cost(self):\n",
    "        return self.decorated_coffee.get_cost() + 0.75\n",
    "   \n",
    "    def get_ingredients(self):\n",
    "        return self.decorated_coffee.get_ingredients() + ', vanilla'"
   ]
  },
  {
   "cell_type": "code",
   "execution_count": 10,
   "metadata": {},
   "outputs": [],
   "source": [
    "# just coffee\n",
    "MyCoffee = ConcreteCoffee()\n",
    "# with milk\n",
    "MyCoffee = Milk(MyCoffee)\n",
    "# add vanilla\n",
    "MyCoffee = Vanilla(MyCoffee)\n",
    "# now more sugar\n",
    "MyCoffee = Sugar(MyCoffee)"
   ]
  },
  {
   "cell_type": "code",
   "execution_count": 14,
   "metadata": {},
   "outputs": [
    {
     "name": "stdout",
     "output_type": "stream",
     "text": [
      "Ingredients: coffee, milk, vanilla, sugar\n",
      "Cost: 2.0\n",
      "Tax = 0.2\n"
     ]
    }
   ],
   "source": [
    "def print_bill(Coffee):\n",
    "    print('Ingredients: {}\\nCost: {}\\nTax = {}'.format(Coffee.get_ingredients(), Coffee.get_cost(), Coffee.get_tax()))\n",
    "\n",
    "print_bill(MyCoffee)"
   ]
  },
  {
   "cell_type": "code",
   "execution_count": null,
   "metadata": {},
   "outputs": [],
   "source": []
  }
 ],
 "metadata": {
  "kernelspec": {
   "display_name": "Python 3",
   "language": "python",
   "name": "python3"
  },
  "language_info": {
   "codemirror_mode": {
    "name": "ipython",
    "version": 3
   },
   "file_extension": ".py",
   "mimetype": "text/x-python",
   "name": "python",
   "nbconvert_exporter": "python",
   "pygments_lexer": "ipython3",
   "version": "3.6.6"
  }
 },
 "nbformat": 4,
 "nbformat_minor": 2
}
